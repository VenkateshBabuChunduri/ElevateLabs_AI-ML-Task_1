{
 "cells": [
  {
   "cell_type": "markdown",
   "id": "c87b5c19-ffba-4e4f-9f3b-6101181ee74e",
   "metadata": {},
   "source": [
    "### Task 1: Data Cleaning & Preprocessing"
   ]
  },
  {
   "cell_type": "markdown",
   "id": "c61c52bc-aefc-4a2b-8807-5882bafbc154",
   "metadata": {},
   "source": [
    "### Import the dataset and explore basic info (nulls, data types)."
   ]
  },
  {
   "cell_type": "code",
   "execution_count": 9,
   "id": "f7c9c5ba-8aeb-4f0d-9fb3-b41855bd9d5d",
   "metadata": {},
   "outputs": [
    {
     "name": "stdout",
     "output_type": "stream",
     "text": [
      "<class 'pandas.core.frame.DataFrame'>\n",
      "RangeIndex: 891 entries, 0 to 890\n",
      "Data columns (total 12 columns):\n",
      " #   Column       Non-Null Count  Dtype  \n",
      "---  ------       --------------  -----  \n",
      " 0   PassengerId  891 non-null    int64  \n",
      " 1   Survived     891 non-null    int64  \n",
      " 2   Pclass       891 non-null    int64  \n",
      " 3   Name         891 non-null    object \n",
      " 4   Sex          891 non-null    object \n",
      " 5   Age          714 non-null    float64\n",
      " 6   SibSp        891 non-null    int64  \n",
      " 7   Parch        891 non-null    int64  \n",
      " 8   Ticket       891 non-null    object \n",
      " 9   Fare         891 non-null    float64\n",
      " 10  Cabin        204 non-null    object \n",
      " 11  Embarked     889 non-null    object \n",
      "dtypes: float64(2), int64(5), object(5)\n",
      "memory usage: 83.7+ KB\n",
      "\n",
      "Null values per column:\n",
      "PassengerId      0\n",
      "Survived         0\n",
      "Pclass           0\n",
      "Name             0\n",
      "Sex              0\n",
      "Age            177\n",
      "SibSp            0\n",
      "Parch            0\n",
      "Ticket           0\n",
      "Fare             0\n",
      "Cabin          687\n",
      "Embarked         2\n",
      "dtype: int64\n"
     ]
    }
   ],
   "source": [
    "import pandas as pd # Import the pandas library for working with DataFrames\n",
    "\n",
    "# Load the dataset from the CSV file into a DataFrame\n",
    "# Make sure 'Titanic-Dataset.csv' is in the same directory as your script or notebook!\n",
    "df = pd.read_csv('Titanic-Dataset.csv')\n",
    "\n",
    "# Display concise summary of the DataFrame:\n",
    "# - Column names\n",
    "# - Number of non-null entries for each column (helps identify missing data)\n",
    "# - Data type of each column (e.g., int, float, object/string)\n",
    "df.info()\n",
    "\n",
    "# Calculate and display the total number of missing values (nulls) for each column\n",
    "# 'df.isnull()' checks for missing values (True for missing, False otherwise)\n",
    "# '.sum()' then counts the 'True' values per column\n",
    "print(\"\\nNull values per column:\")\n",
    "print(df.isnull().sum())"
   ]
  },
  {
   "cell_type": "markdown",
   "id": "7f01abe2-94a9-430d-aa67-340e0fb47091",
   "metadata": {},
   "source": [
    "* The dataset contains 891 entries and 12 columns, comprising both numerical and categorical data types.\n",
    "* Missing values are present in the 'Age' (177), 'Cabin' (687), and 'Embarked' (2) columns.\n",
    "* 'Cabin' has a significant amount of missing data, while 'Age' and 'Embarked' have fewer missing entries."
   ]
  },
  {
   "cell_type": "markdown",
   "id": "5b36c2f0-3e3e-47fc-8f0b-8fe8c5a3c5d5",
   "metadata": {},
   "source": [
    "### Handle missing values using mean/median/imputation."
   ]
  },
  {
   "cell_type": "code",
   "execution_count": 11,
   "id": "90c46600-db58-470b-af9f-2e4290c88770",
   "metadata": {},
   "outputs": [
    {
     "name": "stdout",
     "output_type": "stream",
     "text": [
      "Original missing 'Age' values: 177\n",
      "Missing 'Age' values after median imputation: 0\n",
      "Original missing 'Embarked' values: 2\n",
      "Missing 'Embarked' values after mode imputation: 0\n",
      "Original missing 'Cabin' values: 687\n",
      "The 'Cabin' column has been dropped due to high missing values.\n",
      "\n",
      "Null values after handling:\n",
      "PassengerId    0\n",
      "Survived       0\n",
      "Pclass         0\n",
      "Name           0\n",
      "Sex            0\n",
      "Age            0\n",
      "SibSp          0\n",
      "Parch          0\n",
      "Ticket         0\n",
      "Fare           0\n",
      "Embarked       0\n",
      "dtype: int64\n",
      "\n",
      "DataFrame head after handling missing values:\n",
      "   PassengerId  Survived  Pclass  \\\n",
      "0            1         0       3   \n",
      "1            2         1       1   \n",
      "2            3         1       3   \n",
      "3            4         1       1   \n",
      "4            5         0       3   \n",
      "\n",
      "                                                Name     Sex   Age  SibSp  \\\n",
      "0                            Braund, Mr. Owen Harris    male  22.0      1   \n",
      "1  Cumings, Mrs. John Bradley (Florence Briggs Th...  female  38.0      1   \n",
      "2                             Heikkinen, Miss. Laina  female  26.0      0   \n",
      "3       Futrelle, Mrs. Jacques Heath (Lily May Peel)  female  35.0      1   \n",
      "4                           Allen, Mr. William Henry    male  35.0      0   \n",
      "\n",
      "   Parch            Ticket     Fare Embarked  \n",
      "0      0         A/5 21171   7.2500        S  \n",
      "1      0          PC 17599  71.2833        C  \n",
      "2      0  STON/O2. 3101282   7.9250        S  \n",
      "3      0            113803  53.1000        S  \n",
      "4      0            373450   8.0500        S  \n"
     ]
    }
   ],
   "source": [
    "import pandas as pd # Ensure pandas is imported\n",
    "\n",
    "# Assume df is already loaded from Step 1.\n",
    "# If running this snippet independently, make sure your 'df' DataFrame is loaded.\n",
    "\n",
    "# Handle 'Age' missing values by filling with the median age\n",
    "# The median is less affected by extreme values than the mean, suitable for 'Age'.\n",
    "# We reassign the column to avoid 'FutureWarning' about inplace operations.\n",
    "print(f\"Original missing 'Age' values: {df['Age'].isnull().sum()}\")\n",
    "df['Age'] = df['Age'].fillna(df['Age'].median())\n",
    "print(f\"Missing 'Age' values after median imputation: {df['Age'].isnull().sum()}\")\n",
    "\n",
    "# Handle 'Embarked' missing values by filling with the most frequent value (mode)\n",
    "# For categorical data with few missing entries, the mode is a common choice.\n",
    "# We reassign the column to avoid 'FutureWarning'.\n",
    "print(f\"Original missing 'Embarked' values: {df['Embarked'].isnull().sum()}\")\n",
    "df['Embarked'] = df['Embarked'].fillna(df['Embarked'].mode()[0])\n",
    "print(f\"Missing 'Embarked' values after mode imputation: {df['Embarked'].isnull().sum()}\")\n",
    "\n",
    "# Drop the 'Cabin' column entirely\n",
    "# This column had a very high percentage of missing values (over 75%),\n",
    "# making it impractical to impute meaningfully.\n",
    "print(f\"Original missing 'Cabin' values: {df['Cabin'].isnull().sum()}\")\n",
    "df.drop('Cabin', axis=1, inplace=True) # inplace=True is fine when dropping a full column\n",
    "print(\"The 'Cabin' column has been dropped due to high missing values.\")\n",
    "\n",
    "# Verify that all missing values have been handled\n",
    "# This should confirm 0 missing values across all remaining columns.\n",
    "print(\"\\nNull values after handling:\")\n",
    "print(df.isnull().sum())\n",
    "\n",
    "# Display the first few rows to show the updated DataFrame\n",
    "print(\"\\nDataFrame head after handling missing values:\")\n",
    "print(df.head())"
   ]
  },
  {
   "cell_type": "markdown",
   "id": "b87d8e1a-35ad-49c3-a0a2-3aacc835a09e",
   "metadata": {},
   "source": [
    "* Missing values in the 'Age' column were successfully filled using its median value.\n",
    "* Missing values in the 'Embarked' column were filled using its mode (most frequent value).\n",
    "* The 'Cabin' column was completely removed from the dataset due to the high volume of missing data it contained.\n",
    "* After these operations, the dataset now has no missing values in any of its remaining columns."
   ]
  },
  {
   "cell_type": "markdown",
   "id": "8402bd6b-f5a2-4a3a-af5b-f18c69b35895",
   "metadata": {},
   "source": [
    "### Convert categorical features into numerical using encoding."
   ]
  },
  {
   "cell_type": "code",
   "execution_count": 13,
   "id": "ab410d2a-21a8-4d81-8bb1-f5674d548d12",
   "metadata": {},
   "outputs": [
    {
     "name": "stdout",
     "output_type": "stream",
     "text": [
      "\n",
      "DataFrame head after encoding categorical features:\n",
      "   PassengerId  Survived  Pclass   Age  SibSp  Parch     Fare  Sex_male  \\\n",
      "0            1         0       3  22.0      1      0   7.2500      True   \n",
      "1            2         1       1  38.0      1      0  71.2833     False   \n",
      "2            3         1       3  26.0      0      0   7.9250     False   \n",
      "3            4         1       1  35.0      1      0  53.1000     False   \n",
      "4            5         0       3  35.0      0      0   8.0500      True   \n",
      "\n",
      "   Embarked_Q  Embarked_S  \n",
      "0       False        True  \n",
      "1       False       False  \n",
      "2       False        True  \n",
      "3       False        True  \n",
      "4       False        True  \n",
      "\n",
      "Data types after encoding:\n",
      "<class 'pandas.core.frame.DataFrame'>\n",
      "RangeIndex: 891 entries, 0 to 890\n",
      "Data columns (total 10 columns):\n",
      " #   Column       Non-Null Count  Dtype  \n",
      "---  ------       --------------  -----  \n",
      " 0   PassengerId  891 non-null    int64  \n",
      " 1   Survived     891 non-null    int64  \n",
      " 2   Pclass       891 non-null    int64  \n",
      " 3   Age          891 non-null    float64\n",
      " 4   SibSp        891 non-null    int64  \n",
      " 5   Parch        891 non-null    int64  \n",
      " 6   Fare         891 non-null    float64\n",
      " 7   Sex_male     891 non-null    bool   \n",
      " 8   Embarked_Q   891 non-null    bool   \n",
      " 9   Embarked_S   891 non-null    bool   \n",
      "dtypes: bool(3), float64(2), int64(5)\n",
      "memory usage: 51.5 KB\n"
     ]
    }
   ],
   "source": [
    "import pandas as pd # Ensure pandas is imported\n",
    "\n",
    "# Assume df is already processed from previous steps (loaded, missing values handled).\n",
    "# If running this snippet independently, load and process df first:\n",
    "# df = pd.read_csv('Titanic-Dataset.csv')\n",
    "# df['Age'] = df['Age'].fillna(df['Age'].median())\n",
    "# df['Embarked'] = df['Embarked'].fillna(df['Embarked'].mode()[0])\n",
    "# df.drop('Cabin', axis=1, inplace=True)\n",
    "\n",
    "# Drop 'Name' and 'Ticket' columns\n",
    "# These columns are typically not useful as direct features for ML models\n",
    "# due to their unique or highly varied string content.\n",
    "df.drop(['Name', 'Ticket'], axis=1, inplace=True)\n",
    "\n",
    "# Apply one-hot encoding to 'Sex' and 'Embarked' columns\n",
    "# 'pd.get_dummies()' converts categories into new binary (0 or 1) columns.\n",
    "# For example, 'Sex' becomes 'Sex_male' (1 if male, 0 if female).\n",
    "# 'drop_first=True' prevents multicollinearity by only creating N-1 new columns\n",
    "# for N categories (e.g., if 'Sex_male' is 0, it implies 'female').\n",
    "df = pd.get_dummies(df, columns=['Sex', 'Embarked'], drop_first=True)\n",
    "\n",
    "# Display the first few rows of the DataFrame to see the changes\n",
    "print(\"\\nDataFrame head after encoding categorical features:\")\n",
    "print(df.head())\n",
    "\n",
    "# Display data types to confirm the new columns are numerical (uint8)\n",
    "print(\"\\nData types after encoding:\")\n",
    "df.info()"
   ]
  },
  {
   "cell_type": "markdown",
   "id": "94356ce4-8bc9-4845-90f4-60904c731d75",
   "metadata": {},
   "source": [
    "* Irrelevant 'Name' and 'Ticket' columns were successfully dropped from the dataset.\n",
    "* Categorical 'Sex' and 'Embarked' columns were converted into numerical format using one-hot encoding.\n",
    "* The DataFrame now exclusively contains numerical features, ready for numerical processing."
   ]
  },
  {
   "cell_type": "markdown",
   "id": "74ba6b5a-66fd-43d0-a518-34643839986d",
   "metadata": {},
   "source": [
    "### Normalize/standardize the numerical features."
   ]
  },
  {
   "cell_type": "code",
   "execution_count": 15,
   "id": "56bedba4-086e-4d0d-a3b6-552575ee91bc",
   "metadata": {},
   "outputs": [
    {
     "name": "stdout",
     "output_type": "stream",
     "text": [
      "\n",
      "DataFrame head after normalizing numerical features:\n",
      "   PassengerId  Survived    Pclass       Age     SibSp     Parch      Fare  \\\n",
      "0            1         0  0.827377 -0.565736  0.432793 -0.473674 -0.502445   \n",
      "1            2         1 -1.566107  0.663861  0.432793 -0.473674  0.786845   \n",
      "2            3         1  0.827377 -0.258337 -0.474545 -0.473674 -0.488854   \n",
      "3            4         1 -1.566107  0.433312  0.432793 -0.473674  0.420730   \n",
      "4            5         0  0.827377  0.433312 -0.474545 -0.473674 -0.486337   \n",
      "\n",
      "   Sex_male  Embarked_Q  Embarked_S  \n",
      "0      True       False        True  \n",
      "1     False       False       False  \n",
      "2     False       False        True  \n",
      "3     False       False        True  \n",
      "4      True       False        True  \n",
      "\n",
      "Descriptive statistics of normalized numerical features:\n",
      "             Pclass           Age         SibSp         Parch          Fare\n",
      "count  8.910000e+02  8.910000e+02  8.910000e+02  8.910000e+02  8.910000e+02\n",
      "mean  -8.772133e-17  2.272780e-16  4.386066e-17  5.382900e-17  3.987333e-18\n",
      "std    1.000562e+00  1.000562e+00  1.000562e+00  1.000562e+00  1.000562e+00\n",
      "min   -1.566107e+00 -2.224156e+00 -4.745452e-01 -4.736736e-01 -6.484217e-01\n",
      "25%   -3.693648e-01 -5.657365e-01 -4.745452e-01 -4.736736e-01 -4.891482e-01\n",
      "50%    8.273772e-01 -1.046374e-01 -4.745452e-01 -4.736736e-01 -3.573909e-01\n",
      "75%    8.273772e-01  4.333115e-01  4.327934e-01 -4.736736e-01 -2.424635e-02\n",
      "max    8.273772e-01  3.891554e+00  6.784163e+00  6.974147e+00  9.667167e+00\n"
     ]
    }
   ],
   "source": [
    "from sklearn.preprocessing import StandardScaler # Import the StandardScaler tool from scikit-learn\n",
    "\n",
    "# Assume df is already processed from previous steps (loaded, missing values handled, categorical encoded).\n",
    "# If running this snippet independently, make sure your 'df' DataFrame is ready.\n",
    "\n",
    "# Identify numerical features to be normalized\n",
    "# 'PassengerId' is typically excluded as it's an identifier, not a feature for scaling.\n",
    "numerical_features = ['Pclass', 'Age', 'SibSp', 'Parch', 'Fare']\n",
    "\n",
    "# Initialize the StandardScaler\n",
    "# This creates an object that will learn the scaling parameters (mean and std dev).\n",
    "scaler = StandardScaler()\n",
    "\n",
    "# Apply standardization to the selected numerical features\n",
    "# 'fit_transform()' first learns the scaling parameters from the data ('fit')\n",
    "# and then applies the transformation ('transform') to scale the data.\n",
    "# The scaled values replace the original values in the DataFrame.\n",
    "df[numerical_features] = scaler.fit_transform(df[numerical_features])\n",
    "\n",
    "# Display the first few rows of the DataFrame to see the normalized features\n",
    "# You'll notice the values are now centered around zero, often with negative values.\n",
    "print(\"\\nDataFrame head after normalizing numerical features:\")\n",
    "print(df.head())\n",
    "\n",
    "# Display descriptive statistics to confirm normalization\n",
    "# After standardization, the 'mean' for these columns should be very close to 0,\n",
    "# and the 'std' (standard deviation) should be very close to 1.\n",
    "print(\"\\nDescriptive statistics of normalized numerical features:\")\n",
    "print(df[numerical_features].describe())"
   ]
  },
  {
   "cell_type": "code",
   "execution_count": null,
   "id": "6804e793-2578-4d22-bb72-238e37c86d40",
   "metadata": {},
   "outputs": [],
   "source": [
    "* Numerical features ('Pclass', 'Age', 'SibSp', 'Parch', 'Fare') were successfully standardized.\n",
    "* After standardization, these features now have a mean very close to 0 and a standard deviation very close to 1.\n",
    "* This scaling prepares the numerical data for machine learning algorithms, which often perform better with features on a consistent scale."
   ]
  },
  {
   "cell_type": "markdown",
   "id": "004ba7e8-cc64-456b-9ad3-167ba0317d33",
   "metadata": {},
   "source": [
    "### Visualize outliers using boxplots and remove them."
   ]
  },
  {
   "cell_type": "code",
   "execution_count": 17,
   "id": "e0294fc8-3f13-460f-8773-10d3416ade9c",
   "metadata": {},
   "outputs": [
    {
     "data": {
      "image/png": "[encoded data removed]",
      "text/plain": [
       "<Figure size 1500x1000 with 5 Axes>"
      ]
     },
     "metadata": {},
     "output_type": "display_data"
    },
    {
     "name": "stdout",
     "output_type": "stream",
     "text": [
      "Original DataFrame shape before outlier removal: (891, 10)\n",
      "DataFrame shape after outlier removal: (561, 10)\n",
      "\n",
      "DataFrame head after outlier removal:\n",
      "   PassengerId  Survived    Pclass       Age     SibSp     Parch      Fare  \\\n",
      "0            1         0  0.827377 -0.565736  0.432793 -0.473674 -0.502445   \n",
      "2            3         1  0.827377 -0.258337 -0.474545 -0.473674 -0.488854   \n",
      "3            4         1 -1.566107  0.433312  0.432793 -0.473674  0.420730   \n",
      "4            5         0  0.827377  0.433312 -0.474545 -0.473674 -0.486337   \n",
      "5            6         0  0.827377 -0.104637 -0.474545 -0.473674 -0.478116   \n",
      "\n",
      "   Sex_male  Embarked_Q  Embarked_S  \n",
      "0      True       False        True  \n",
      "2     False       False        True  \n",
      "3     False       False        True  \n",
      "4      True       False        True  \n",
      "5      True        True       False  \n"
     ]
    }
   ],
   "source": [
    "import matplotlib.pyplot as plt # For creating plots like boxplots\n",
    "import seaborn as sns           # For making statistical graphics, which works well with matplotlib\n",
    "\n",
    "# Assume df is already processed from all previous steps (loaded, missing values handled,\n",
    "# categorical encoded, numerical features normalized).\n",
    "# If running this snippet independently, ensure your 'df' DataFrame is ready from previous steps.\n",
    "\n",
    "# Numerical features to check for outliers (these are the features we normalized earlier)\n",
    "numerical_features_for_outliers = ['Pclass', 'Age', 'SibSp', 'Parch', 'Fare']\n",
    "\n",
    "# Create boxplots to visually identify outliers\n",
    "# A boxplot shows the distribution of data and highlights points that fall far\n",
    "# outside the typical range (these are the outliers).\n",
    "plt.figure(figsize=(15, 10)) # Set the overall size of the plot figure\n",
    "for i, feature in enumerate(numerical_features_for_outliers):\n",
    "    plt.subplot(2, 3, i + 1) # Arranges plots in a 2x3 grid, placing current plot at position i+1\n",
    "    sns.boxplot(y=df[feature]) # Creates a vertical boxplot for the current numerical feature\n",
    "    plt.title(f'Boxplot of {feature}') # Sets the title for each individual boxplot\n",
    "plt.tight_layout() # Adjusts subplot parameters for a tight layout, preventing overlaps\n",
    "plt.savefig('numerical_features_boxplots.png') # Saves the generated plot as an image file\n",
    "plt.show() # Displays the plot window (this will pop up when you run the script)\n",
    "\n",
    "# Store original DataFrame shape before outlier removal\n",
    "# This helps us see how many rows were removed after cleaning.\n",
    "original_shape = df.shape\n",
    "print(f\"Original DataFrame shape before outlier removal: {original_shape}\")\n",
    "\n",
    "# Outlier removal using the Interquartile Range (IQR) method\n",
    "# The IQR method defines outliers as values falling below Q1 - 1.5*IQR or above Q3 + 1.5*IQR.\n",
    "# Q1: 25th percentile, Q3: 75th percentile, IQR: Q3 - Q1.\n",
    "df_cleaned = df.copy() # Create a copy of the DataFrame to perform operations on\n",
    "\n",
    "for feature in numerical_features_for_outliers:\n",
    "    Q1 = df_cleaned[feature].quantile(0.25) # Calculate the first quartile\n",
    "    Q3 = df_cleaned[feature].quantile(0.75) # Calculate the third quartile\n",
    "    IQR = Q3 - Q1 # Calculate the Interquartile Range\n",
    "    lower_bound = Q1 - 1.5 * IQR # Calculate the lower boundary for outliers\n",
    "    upper_bound = Q3 + 1.5 * IQR # Calculate the upper boundary for outliers\n",
    "\n",
    "    # Filter the DataFrame to keep only rows where the feature value is within the bounds\n",
    "    df_cleaned = df_cleaned[(df_cleaned[feature] >= lower_bound) & (df_cleaned[feature] <= upper_bound)]\n",
    "\n",
    "# Display the final shape of the DataFrame after outlier removal\n",
    "print(f\"DataFrame shape after outlier removal: {df_cleaned.shape}\")\n",
    "\n",
    "# Display the first few rows of the final cleaned DataFrame\n",
    "print(\"\\nDataFrame head after outlier removal:\")\n",
    "print(df_cleaned.head())"
   ]
  },
  {
   "cell_type": "code",
   "execution_count": null,
   "id": "8df157fa-c569-412d-9466-707b7cfc2764",
   "metadata": {},
   "outputs": [],
   "source": [
    "* Box plots visually confirmed the presence of outliers in numerical features like 'Age', 'SibSp', 'Parch', and 'Fare'.\n",
    "* Outliers were effectively removed using the Interquartile Range (IQR) method.\n",
    "* This process reduced the dataset size from 891 entries to 561 entries, resulting in a cleaner dataset less susceptible to extreme values."
   ]
  },
  {
   "cell_type": "code",
   "execution_count": null,
   "id": "a3de3ba9-6313-43d3-a42c-a3f0bee67a96",
   "metadata": {},
   "outputs": [],
   "source": []
  },
  {
   "cell_type": "code",
   "execution_count": null,
   "id": "59bcb15d-f101-4e16-b2ce-d1347b0b6678",
   "metadata": {},
   "outputs": [],
   "source": []
  },
  {
   "cell_type": "code",
   "execution_count": null,
   "id": "e0842774-0f5e-416c-9b0b-58611a45baa0",
   "metadata": {},
   "outputs": [],
   "source": []
  },
  {
   "cell_type": "code",
   "execution_count": null,
   "id": "eae637c6-e266-4069-8be5-77f309b166f3",
   "metadata": {},
   "outputs": [],
   "source": []
  },
  {
   "cell_type": "code",
   "execution_count": null,
   "id": "3f502435-de55-4ab1-9e04-78ebcee18410",
   "metadata": {},
   "outputs": [],
   "source": []
  },
  {
   "cell_type": "code",
   "execution_count": null,
   "id": "533522e8-19a6-4258-99c9-c76b049eb4a5",
   "metadata": {},
   "outputs": [],
   "source": []
  }
 ],
 "metadata": {
  "kernelspec": {
   "display_name": "Python [conda env:base] *",
   "language": "python",
   "name": "conda-base-py"
  },
  "language_info": {
   "codemirror_mode": {
    "name": "ipython",
    "version": 3
   },
   "file_extension": ".py",
   "mimetype": "text/x-python",
   "name": "python",
   "nbconvert_exporter": "python",
   "pygments_lexer": "ipython3",
   "version": "3.12.7"
  }
 },
 "nbformat": 4,
 "nbformat_minor": 5
}
